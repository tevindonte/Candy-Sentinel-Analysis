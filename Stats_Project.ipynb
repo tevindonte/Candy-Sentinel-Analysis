{
  "nbformat": 4,
  "nbformat_minor": 0,
  "metadata": {
    "colab": {
      "provenance": [],
      "authorship_tag": "ABX9TyP5JLL27dcbkwinsr3zjQ30",
      "include_colab_link": true
    },
    "kernelspec": {
      "name": "python3",
      "display_name": "Python 3"
    },
    "language_info": {
      "name": "python"
    }
  },
  "cells": [
    {
      "cell_type": "markdown",
      "metadata": {
        "id": "view-in-github",
        "colab_type": "text"
      },
      "source": [
        "<a href=\"https://colab.research.google.com/github/tevindonte/Candy-Sentinel-Analysis/blob/master/Stats_Project.ipynb\" target=\"_parent\"><img src=\"https://colab.research.google.com/assets/colab-badge.svg\" alt=\"Open In Colab\"/></a>"
      ]
    },
    {
      "cell_type": "code",
      "execution_count": 1,
      "metadata": {
        "id": "UKDDvfVlUcjX"
      },
      "outputs": [],
      "source": [
        "import matplotlib.pylab as py\n",
        "from sklearn.datasets import load_files\n",
        "import numpy as np\n",
        "import pandas as pd\n",
        "import sklearn\n",
        "import matplotlib.pylab as plt\n",
        "from mpl_toolkits.mplot3d import Axes3D\n",
        "from matplotlib.colors import ListedColormap\n",
        "import seaborn as sns\n",
        "import datetime\n",
        "import scipy.stats as stats\n",
        "from google.colab import files"
      ]
    },
    {
      "cell_type": "code",
      "source": [
        "from google.colab import drive\n",
        "drive.mount('/content/drive')"
      ],
      "metadata": {
        "colab": {
          "base_uri": "https://localhost:8080/"
        },
        "id": "9hNaQj3B66GY",
        "outputId": "e61e27f4-800d-4046-a88d-0b0cd987e778"
      },
      "execution_count": 3,
      "outputs": [
        {
          "output_type": "stream",
          "name": "stdout",
          "text": [
            "Mounted at /content/drive\n"
          ]
        }
      ]
    },
    {
      "cell_type": "code",
      "source": [
        "cd /content/drive/MyDrive/"
      ],
      "metadata": {
        "colab": {
          "base_uri": "https://localhost:8080/"
        },
        "id": "eyiZi05I68p4",
        "outputId": "9aa1243e-9233-4c8f-9595-0426176a499c"
      },
      "execution_count": 4,
      "outputs": [
        {
          "output_type": "stream",
          "name": "stdout",
          "text": [
            "/content/drive/MyDrive\n"
          ]
        }
      ]
    },
    {
      "cell_type": "code",
      "source": [
        "original = pd.read_csv('/content/drive/MyDrive/Tuition.csv', low_memory=False)"
      ],
      "metadata": {
        "id": "5L90dgEP69Vu"
      },
      "execution_count": 5,
      "outputs": []
    },
    {
      "cell_type": "code",
      "source": [
        "original"
      ],
      "metadata": {
        "colab": {
          "base_uri": "https://localhost:8080/",
          "height": 650
        },
        "id": "RCwp0DjC69gG",
        "outputId": "c79adfb0-af68-490f-bac5-3e0c0e792195"
      },
      "execution_count": 6,
      "outputs": [
        {
          "output_type": "execute_result",
          "data": {
            "text/plain": [
              "      Academic Year  TAP College Code  Federal School Code  \\\n",
              "0              2020                10                 2666   \n",
              "1              2020              2000                 2860   \n",
              "2              2020               995                 2885   \n",
              "3              2020                20                 2668   \n",
              "4              2020              7952                10813   \n",
              "...             ...               ...                  ...   \n",
              "7960           2000              7895                 7405   \n",
              "7961           2000              5155                 9895   \n",
              "7962           2000              1085                 2903   \n",
              "7963           2000              5151                 9895   \n",
              "7964           2000              5180                 9895   \n",
              "\n",
              "                      TAP College Name  Sector Type TAP Sector Group  \\\n",
              "0     ADELPHI UNIVERSITY 4 YR UNDERGRAD     PRIVATE    5-INDEPENDENT   \n",
              "1          ADIRONDACK COMMUNITY COLLEGE      PUBLIC        4-SUNY CC   \n",
              "2     ALBANY COLLEGE OF PHARMACY 4YR UG     PRIVATE    5-INDEPENDENT   \n",
              "3       ALFRED UNIVERSITY 4YR UNDERGRAD     PRIVATE    5-INDEPENDENT   \n",
              "4     AMERICAN ACADEMY MCALLISTER INST.     PRIVATE    6-BUS. DEGREE   \n",
              "...                                 ...         ...              ...   \n",
              "7960            WOOD TOBE-COBURN SCHOOL     PRIVATE    6-BUS. DEGREE   \n",
              "7961      YESHIVA UNIV EINSTEIN COL MED     PRIVATE    5-INDEPENDENT   \n",
              "7962                 YESHIVA UNIVERSITY     PRIVATE    5-INDEPENDENT   \n",
              "7963     YESHIVA UNIV GRAD/PROFESSIONAL     PRIVATE    5-INDEPENDENT   \n",
              "7964    YESHIVA UNIV-WURZWEILER (BLOCK)     PRIVATE    5-INDEPENDENT   \n",
              "\n",
              "      TAP Recipient Headcount  TAP Recipient FTEs  TAP Recipient Dollars  \n",
              "0                        1343             1247.89                3827369  \n",
              "1                         603              459.94                1247648  \n",
              "2                         163              162.45                 449133  \n",
              "3                         442              395.17                1217828  \n",
              "4                          36               27.32                  80168  \n",
              "...                       ...                 ...                    ...  \n",
              "7960                      427              358.50                1400240  \n",
              "7961                       73               72.50                  29704  \n",
              "7962                      352              333.50                 889816  \n",
              "7963                      135              121.00                  46716  \n",
              "7964                        2                1.33                    100  \n",
              "\n",
              "[7965 rows x 9 columns]"
            ],
            "text/html": [
              "\n",
              "  <div id=\"df-43246d43-3637-4c18-be9d-25abb20ff96a\">\n",
              "    <div class=\"colab-df-container\">\n",
              "      <div>\n",
              "<style scoped>\n",
              "    .dataframe tbody tr th:only-of-type {\n",
              "        vertical-align: middle;\n",
              "    }\n",
              "\n",
              "    .dataframe tbody tr th {\n",
              "        vertical-align: top;\n",
              "    }\n",
              "\n",
              "    .dataframe thead th {\n",
              "        text-align: right;\n",
              "    }\n",
              "</style>\n",
              "<table border=\"1\" class=\"dataframe\">\n",
              "  <thead>\n",
              "    <tr style=\"text-align: right;\">\n",
              "      <th></th>\n",
              "      <th>Academic Year</th>\n",
              "      <th>TAP College Code</th>\n",
              "      <th>Federal School Code</th>\n",
              "      <th>TAP College Name</th>\n",
              "      <th>Sector Type</th>\n",
              "      <th>TAP Sector Group</th>\n",
              "      <th>TAP Recipient Headcount</th>\n",
              "      <th>TAP Recipient FTEs</th>\n",
              "      <th>TAP Recipient Dollars</th>\n",
              "    </tr>\n",
              "  </thead>\n",
              "  <tbody>\n",
              "    <tr>\n",
              "      <th>0</th>\n",
              "      <td>2020</td>\n",
              "      <td>10</td>\n",
              "      <td>2666</td>\n",
              "      <td>ADELPHI UNIVERSITY 4 YR UNDERGRAD</td>\n",
              "      <td>PRIVATE</td>\n",
              "      <td>5-INDEPENDENT</td>\n",
              "      <td>1343</td>\n",
              "      <td>1247.89</td>\n",
              "      <td>3827369</td>\n",
              "    </tr>\n",
              "    <tr>\n",
              "      <th>1</th>\n",
              "      <td>2020</td>\n",
              "      <td>2000</td>\n",
              "      <td>2860</td>\n",
              "      <td>ADIRONDACK COMMUNITY COLLEGE</td>\n",
              "      <td>PUBLIC</td>\n",
              "      <td>4-SUNY CC</td>\n",
              "      <td>603</td>\n",
              "      <td>459.94</td>\n",
              "      <td>1247648</td>\n",
              "    </tr>\n",
              "    <tr>\n",
              "      <th>2</th>\n",
              "      <td>2020</td>\n",
              "      <td>995</td>\n",
              "      <td>2885</td>\n",
              "      <td>ALBANY COLLEGE OF PHARMACY 4YR UG</td>\n",
              "      <td>PRIVATE</td>\n",
              "      <td>5-INDEPENDENT</td>\n",
              "      <td>163</td>\n",
              "      <td>162.45</td>\n",
              "      <td>449133</td>\n",
              "    </tr>\n",
              "    <tr>\n",
              "      <th>3</th>\n",
              "      <td>2020</td>\n",
              "      <td>20</td>\n",
              "      <td>2668</td>\n",
              "      <td>ALFRED UNIVERSITY 4YR UNDERGRAD</td>\n",
              "      <td>PRIVATE</td>\n",
              "      <td>5-INDEPENDENT</td>\n",
              "      <td>442</td>\n",
              "      <td>395.17</td>\n",
              "      <td>1217828</td>\n",
              "    </tr>\n",
              "    <tr>\n",
              "      <th>4</th>\n",
              "      <td>2020</td>\n",
              "      <td>7952</td>\n",
              "      <td>10813</td>\n",
              "      <td>AMERICAN ACADEMY MCALLISTER INST.</td>\n",
              "      <td>PRIVATE</td>\n",
              "      <td>6-BUS. DEGREE</td>\n",
              "      <td>36</td>\n",
              "      <td>27.32</td>\n",
              "      <td>80168</td>\n",
              "    </tr>\n",
              "    <tr>\n",
              "      <th>...</th>\n",
              "      <td>...</td>\n",
              "      <td>...</td>\n",
              "      <td>...</td>\n",
              "      <td>...</td>\n",
              "      <td>...</td>\n",
              "      <td>...</td>\n",
              "      <td>...</td>\n",
              "      <td>...</td>\n",
              "      <td>...</td>\n",
              "    </tr>\n",
              "    <tr>\n",
              "      <th>7960</th>\n",
              "      <td>2000</td>\n",
              "      <td>7895</td>\n",
              "      <td>7405</td>\n",
              "      <td>WOOD TOBE-COBURN SCHOOL</td>\n",
              "      <td>PRIVATE</td>\n",
              "      <td>6-BUS. DEGREE</td>\n",
              "      <td>427</td>\n",
              "      <td>358.50</td>\n",
              "      <td>1400240</td>\n",
              "    </tr>\n",
              "    <tr>\n",
              "      <th>7961</th>\n",
              "      <td>2000</td>\n",
              "      <td>5155</td>\n",
              "      <td>9895</td>\n",
              "      <td>YESHIVA UNIV EINSTEIN COL MED</td>\n",
              "      <td>PRIVATE</td>\n",
              "      <td>5-INDEPENDENT</td>\n",
              "      <td>73</td>\n",
              "      <td>72.50</td>\n",
              "      <td>29704</td>\n",
              "    </tr>\n",
              "    <tr>\n",
              "      <th>7962</th>\n",
              "      <td>2000</td>\n",
              "      <td>1085</td>\n",
              "      <td>2903</td>\n",
              "      <td>YESHIVA UNIVERSITY</td>\n",
              "      <td>PRIVATE</td>\n",
              "      <td>5-INDEPENDENT</td>\n",
              "      <td>352</td>\n",
              "      <td>333.50</td>\n",
              "      <td>889816</td>\n",
              "    </tr>\n",
              "    <tr>\n",
              "      <th>7963</th>\n",
              "      <td>2000</td>\n",
              "      <td>5151</td>\n",
              "      <td>9895</td>\n",
              "      <td>YESHIVA UNIV GRAD/PROFESSIONAL</td>\n",
              "      <td>PRIVATE</td>\n",
              "      <td>5-INDEPENDENT</td>\n",
              "      <td>135</td>\n",
              "      <td>121.00</td>\n",
              "      <td>46716</td>\n",
              "    </tr>\n",
              "    <tr>\n",
              "      <th>7964</th>\n",
              "      <td>2000</td>\n",
              "      <td>5180</td>\n",
              "      <td>9895</td>\n",
              "      <td>YESHIVA UNIV-WURZWEILER (BLOCK)</td>\n",
              "      <td>PRIVATE</td>\n",
              "      <td>5-INDEPENDENT</td>\n",
              "      <td>2</td>\n",
              "      <td>1.33</td>\n",
              "      <td>100</td>\n",
              "    </tr>\n",
              "  </tbody>\n",
              "</table>\n",
              "<p>7965 rows × 9 columns</p>\n",
              "</div>\n",
              "      <button class=\"colab-df-convert\" onclick=\"convertToInteractive('df-43246d43-3637-4c18-be9d-25abb20ff96a')\"\n",
              "              title=\"Convert this dataframe to an interactive table.\"\n",
              "              style=\"display:none;\">\n",
              "        \n",
              "  <svg xmlns=\"http://www.w3.org/2000/svg\" height=\"24px\"viewBox=\"0 0 24 24\"\n",
              "       width=\"24px\">\n",
              "    <path d=\"M0 0h24v24H0V0z\" fill=\"none\"/>\n",
              "    <path d=\"M18.56 5.44l.94 2.06.94-2.06 2.06-.94-2.06-.94-.94-2.06-.94 2.06-2.06.94zm-11 1L8.5 8.5l.94-2.06 2.06-.94-2.06-.94L8.5 2.5l-.94 2.06-2.06.94zm10 10l.94 2.06.94-2.06 2.06-.94-2.06-.94-.94-2.06-.94 2.06-2.06.94z\"/><path d=\"M17.41 7.96l-1.37-1.37c-.4-.4-.92-.59-1.43-.59-.52 0-1.04.2-1.43.59L10.3 9.45l-7.72 7.72c-.78.78-.78 2.05 0 2.83L4 21.41c.39.39.9.59 1.41.59.51 0 1.02-.2 1.41-.59l7.78-7.78 2.81-2.81c.8-.78.8-2.07 0-2.86zM5.41 20L4 18.59l7.72-7.72 1.47 1.35L5.41 20z\"/>\n",
              "  </svg>\n",
              "      </button>\n",
              "      \n",
              "  <style>\n",
              "    .colab-df-container {\n",
              "      display:flex;\n",
              "      flex-wrap:wrap;\n",
              "      gap: 12px;\n",
              "    }\n",
              "\n",
              "    .colab-df-convert {\n",
              "      background-color: #E8F0FE;\n",
              "      border: none;\n",
              "      border-radius: 50%;\n",
              "      cursor: pointer;\n",
              "      display: none;\n",
              "      fill: #1967D2;\n",
              "      height: 32px;\n",
              "      padding: 0 0 0 0;\n",
              "      width: 32px;\n",
              "    }\n",
              "\n",
              "    .colab-df-convert:hover {\n",
              "      background-color: #E2EBFA;\n",
              "      box-shadow: 0px 1px 2px rgba(60, 64, 67, 0.3), 0px 1px 3px 1px rgba(60, 64, 67, 0.15);\n",
              "      fill: #174EA6;\n",
              "    }\n",
              "\n",
              "    [theme=dark] .colab-df-convert {\n",
              "      background-color: #3B4455;\n",
              "      fill: #D2E3FC;\n",
              "    }\n",
              "\n",
              "    [theme=dark] .colab-df-convert:hover {\n",
              "      background-color: #434B5C;\n",
              "      box-shadow: 0px 1px 3px 1px rgba(0, 0, 0, 0.15);\n",
              "      filter: drop-shadow(0px 1px 2px rgba(0, 0, 0, 0.3));\n",
              "      fill: #FFFFFF;\n",
              "    }\n",
              "  </style>\n",
              "\n",
              "      <script>\n",
              "        const buttonEl =\n",
              "          document.querySelector('#df-43246d43-3637-4c18-be9d-25abb20ff96a button.colab-df-convert');\n",
              "        buttonEl.style.display =\n",
              "          google.colab.kernel.accessAllowed ? 'block' : 'none';\n",
              "\n",
              "        async function convertToInteractive(key) {\n",
              "          const element = document.querySelector('#df-43246d43-3637-4c18-be9d-25abb20ff96a');\n",
              "          const dataTable =\n",
              "            await google.colab.kernel.invokeFunction('convertToInteractive',\n",
              "                                                     [key], {});\n",
              "          if (!dataTable) return;\n",
              "\n",
              "          const docLinkHtml = 'Like what you see? Visit the ' +\n",
              "            '<a target=\"_blank\" href=https://colab.research.google.com/notebooks/data_table.ipynb>data table notebook</a>'\n",
              "            + ' to learn more about interactive tables.';\n",
              "          element.innerHTML = '';\n",
              "          dataTable['output_type'] = 'display_data';\n",
              "          await google.colab.output.renderOutput(dataTable, element);\n",
              "          const docLink = document.createElement('div');\n",
              "          docLink.innerHTML = docLinkHtml;\n",
              "          element.appendChild(docLink);\n",
              "        }\n",
              "      </script>\n",
              "    </div>\n",
              "  </div>\n",
              "  "
            ]
          },
          "metadata": {},
          "execution_count": 6
        }
      ]
    },
    {
      "cell_type": "code",
      "source": [
        "#Chapter 6\n",
        "#Calculate the proportion of schools that had over 500 TAP recipients and test whether there is a significant difference between the proportion of public vs. private schools that had over 500 TAP recipients."
      ],
      "metadata": {
        "id": "krAKL77p-trE"
      },
      "execution_count": 7,
      "outputs": []
    },
    {
      "cell_type": "code",
      "source": [
        "original.columns"
      ],
      "metadata": {
        "colab": {
          "base_uri": "https://localhost:8080/"
        },
        "id": "4rHTD27RBDqa",
        "outputId": "dc3df215-a1b4-4e95-a5ea-c23c6870fd88"
      },
      "execution_count": 8,
      "outputs": [
        {
          "output_type": "execute_result",
          "data": {
            "text/plain": [
              "Index(['Academic Year', 'TAP College Code', 'Federal School Code',\n",
              "       'TAP College Name ', 'Sector Type', 'TAP Sector Group',\n",
              "       'TAP Recipient Headcount', 'TAP Recipient FTEs',\n",
              "       'TAP Recipient Dollars'],\n",
              "      dtype='object')"
            ]
          },
          "metadata": {},
          "execution_count": 8
        }
      ]
    },
    {
      "cell_type": "code",
      "source": [
        "original = original.rename(columns={'TAP College Name ': 'TAP College Name'})"
      ],
      "metadata": {
        "id": "ExDBamHc_A7b"
      },
      "execution_count": 9,
      "outputs": []
    },
    {
      "cell_type": "markdown",
      "source": [
        "# Chapter 5 & 6"
      ],
      "metadata": {
        "id": "uamb0Q5BJ-Jm"
      }
    },
    {
      "cell_type": "code",
      "source": [
        "original['TAP College Name'].duplicated().sum()"
      ],
      "metadata": {
        "colab": {
          "base_uri": "https://localhost:8080/"
        },
        "id": "ClCMb6Le_a_G",
        "outputId": "4d4ad11b-40e6-4403-aaad-8900e286433f"
      },
      "execution_count": 10,
      "outputs": [
        {
          "output_type": "execute_result",
          "data": {
            "text/plain": [
              "7390"
            ]
          },
          "metadata": {},
          "execution_count": 10
        }
      ]
    },
    {
      "cell_type": "code",
      "source": [
        "dupedrop = original.drop_duplicates(subset='TAP College Name', keep='first')"
      ],
      "metadata": {
        "id": "4u43YINJBiAV"
      },
      "execution_count": 11,
      "outputs": []
    },
    {
      "cell_type": "code",
      "source": [
        "dupedrop"
      ],
      "metadata": {
        "id": "YD5oLFgTBlj4",
        "colab": {
          "base_uri": "https://localhost:8080/",
          "height": 650
        },
        "outputId": "14e0bf67-bc21-4194-9fe3-7094f29eb024"
      },
      "execution_count": 12,
      "outputs": [
        {
          "output_type": "execute_result",
          "data": {
            "text/plain": [
              "      Academic Year  TAP College Code  Federal School Code  \\\n",
              "0              2020                10                 2666   \n",
              "1              2020              2000                 2860   \n",
              "2              2020               995                 2885   \n",
              "3              2020                20                 2668   \n",
              "4              2020              7952                10813   \n",
              "...             ...               ...                  ...   \n",
              "7722           2000              2305                 1505   \n",
              "7742           2000              1645                11860   \n",
              "7754           2000              1677                11437   \n",
              "7760           2000              7869               998900   \n",
              "7944           2000              1625                 5072   \n",
              "\n",
              "                       TAP College Name Sector Type TAP Sector Group  \\\n",
              "0     ADELPHI UNIVERSITY 4 YR UNDERGRAD     PRIVATE    5-INDEPENDENT   \n",
              "1          ADIRONDACK COMMUNITY COLLEGE      PUBLIC        4-SUNY CC   \n",
              "2     ALBANY COLLEGE OF PHARMACY 4YR UG     PRIVATE    5-INDEPENDENT   \n",
              "3       ALFRED UNIVERSITY 4YR UNDERGRAD     PRIVATE    5-INDEPENDENT   \n",
              "4     AMERICAN ACADEMY MCALLISTER INST.     PRIVATE    6-BUS. DEGREE   \n",
              "...                                 ...         ...              ...   \n",
              "7722  LYNN UNIVERSITY-OLD FORGE COLLEGE     PRIVATE    5-INDEPENDENT   \n",
              "7742  MERCY HOSPITAL SCH OF RADIOGRAPHY     PRIVATE          8-OTHER   \n",
              "7754  MONTEFIORE HOSP-RADIATION THERAPY     PRIVATE          8-OTHER   \n",
              "7760          MUNICIPAL TRAINING CENTER     PRIVATE   7-BUS. NON-DEG   \n",
              "7944    UNITED HOSP SCH RADIOLOGIC TECH     PRIVATE          8-OTHER   \n",
              "\n",
              "      TAP Recipient Headcount  TAP Recipient FTEs  TAP Recipient Dollars  \n",
              "0                        1343             1247.89                3827369  \n",
              "1                         603              459.94                1247648  \n",
              "2                         163              162.45                 449133  \n",
              "3                         442              395.17                1217828  \n",
              "4                          36               27.32                  80168  \n",
              "...                       ...                 ...                    ...  \n",
              "7722                        2                1.00                   2040  \n",
              "7742                        1                1.00                   2850  \n",
              "7754                        4                4.00                   8950  \n",
              "7760                      123              106.83                 405424  \n",
              "7944                        4                3.50                   7471  \n",
              "\n",
              "[575 rows x 9 columns]"
            ],
            "text/html": [
              "\n",
              "  <div id=\"df-d53790cf-8415-40e3-a491-fcd95033cfa1\">\n",
              "    <div class=\"colab-df-container\">\n",
              "      <div>\n",
              "<style scoped>\n",
              "    .dataframe tbody tr th:only-of-type {\n",
              "        vertical-align: middle;\n",
              "    }\n",
              "\n",
              "    .dataframe tbody tr th {\n",
              "        vertical-align: top;\n",
              "    }\n",
              "\n",
              "    .dataframe thead th {\n",
              "        text-align: right;\n",
              "    }\n",
              "</style>\n",
              "<table border=\"1\" class=\"dataframe\">\n",
              "  <thead>\n",
              "    <tr style=\"text-align: right;\">\n",
              "      <th></th>\n",
              "      <th>Academic Year</th>\n",
              "      <th>TAP College Code</th>\n",
              "      <th>Federal School Code</th>\n",
              "      <th>TAP College Name</th>\n",
              "      <th>Sector Type</th>\n",
              "      <th>TAP Sector Group</th>\n",
              "      <th>TAP Recipient Headcount</th>\n",
              "      <th>TAP Recipient FTEs</th>\n",
              "      <th>TAP Recipient Dollars</th>\n",
              "    </tr>\n",
              "  </thead>\n",
              "  <tbody>\n",
              "    <tr>\n",
              "      <th>0</th>\n",
              "      <td>2020</td>\n",
              "      <td>10</td>\n",
              "      <td>2666</td>\n",
              "      <td>ADELPHI UNIVERSITY 4 YR UNDERGRAD</td>\n",
              "      <td>PRIVATE</td>\n",
              "      <td>5-INDEPENDENT</td>\n",
              "      <td>1343</td>\n",
              "      <td>1247.89</td>\n",
              "      <td>3827369</td>\n",
              "    </tr>\n",
              "    <tr>\n",
              "      <th>1</th>\n",
              "      <td>2020</td>\n",
              "      <td>2000</td>\n",
              "      <td>2860</td>\n",
              "      <td>ADIRONDACK COMMUNITY COLLEGE</td>\n",
              "      <td>PUBLIC</td>\n",
              "      <td>4-SUNY CC</td>\n",
              "      <td>603</td>\n",
              "      <td>459.94</td>\n",
              "      <td>1247648</td>\n",
              "    </tr>\n",
              "    <tr>\n",
              "      <th>2</th>\n",
              "      <td>2020</td>\n",
              "      <td>995</td>\n",
              "      <td>2885</td>\n",
              "      <td>ALBANY COLLEGE OF PHARMACY 4YR UG</td>\n",
              "      <td>PRIVATE</td>\n",
              "      <td>5-INDEPENDENT</td>\n",
              "      <td>163</td>\n",
              "      <td>162.45</td>\n",
              "      <td>449133</td>\n",
              "    </tr>\n",
              "    <tr>\n",
              "      <th>3</th>\n",
              "      <td>2020</td>\n",
              "      <td>20</td>\n",
              "      <td>2668</td>\n",
              "      <td>ALFRED UNIVERSITY 4YR UNDERGRAD</td>\n",
              "      <td>PRIVATE</td>\n",
              "      <td>5-INDEPENDENT</td>\n",
              "      <td>442</td>\n",
              "      <td>395.17</td>\n",
              "      <td>1217828</td>\n",
              "    </tr>\n",
              "    <tr>\n",
              "      <th>4</th>\n",
              "      <td>2020</td>\n",
              "      <td>7952</td>\n",
              "      <td>10813</td>\n",
              "      <td>AMERICAN ACADEMY MCALLISTER INST.</td>\n",
              "      <td>PRIVATE</td>\n",
              "      <td>6-BUS. DEGREE</td>\n",
              "      <td>36</td>\n",
              "      <td>27.32</td>\n",
              "      <td>80168</td>\n",
              "    </tr>\n",
              "    <tr>\n",
              "      <th>...</th>\n",
              "      <td>...</td>\n",
              "      <td>...</td>\n",
              "      <td>...</td>\n",
              "      <td>...</td>\n",
              "      <td>...</td>\n",
              "      <td>...</td>\n",
              "      <td>...</td>\n",
              "      <td>...</td>\n",
              "      <td>...</td>\n",
              "    </tr>\n",
              "    <tr>\n",
              "      <th>7722</th>\n",
              "      <td>2000</td>\n",
              "      <td>2305</td>\n",
              "      <td>1505</td>\n",
              "      <td>LYNN UNIVERSITY-OLD FORGE COLLEGE</td>\n",
              "      <td>PRIVATE</td>\n",
              "      <td>5-INDEPENDENT</td>\n",
              "      <td>2</td>\n",
              "      <td>1.00</td>\n",
              "      <td>2040</td>\n",
              "    </tr>\n",
              "    <tr>\n",
              "      <th>7742</th>\n",
              "      <td>2000</td>\n",
              "      <td>1645</td>\n",
              "      <td>11860</td>\n",
              "      <td>MERCY HOSPITAL SCH OF RADIOGRAPHY</td>\n",
              "      <td>PRIVATE</td>\n",
              "      <td>8-OTHER</td>\n",
              "      <td>1</td>\n",
              "      <td>1.00</td>\n",
              "      <td>2850</td>\n",
              "    </tr>\n",
              "    <tr>\n",
              "      <th>7754</th>\n",
              "      <td>2000</td>\n",
              "      <td>1677</td>\n",
              "      <td>11437</td>\n",
              "      <td>MONTEFIORE HOSP-RADIATION THERAPY</td>\n",
              "      <td>PRIVATE</td>\n",
              "      <td>8-OTHER</td>\n",
              "      <td>4</td>\n",
              "      <td>4.00</td>\n",
              "      <td>8950</td>\n",
              "    </tr>\n",
              "    <tr>\n",
              "      <th>7760</th>\n",
              "      <td>2000</td>\n",
              "      <td>7869</td>\n",
              "      <td>998900</td>\n",
              "      <td>MUNICIPAL TRAINING CENTER</td>\n",
              "      <td>PRIVATE</td>\n",
              "      <td>7-BUS. NON-DEG</td>\n",
              "      <td>123</td>\n",
              "      <td>106.83</td>\n",
              "      <td>405424</td>\n",
              "    </tr>\n",
              "    <tr>\n",
              "      <th>7944</th>\n",
              "      <td>2000</td>\n",
              "      <td>1625</td>\n",
              "      <td>5072</td>\n",
              "      <td>UNITED HOSP SCH RADIOLOGIC TECH</td>\n",
              "      <td>PRIVATE</td>\n",
              "      <td>8-OTHER</td>\n",
              "      <td>4</td>\n",
              "      <td>3.50</td>\n",
              "      <td>7471</td>\n",
              "    </tr>\n",
              "  </tbody>\n",
              "</table>\n",
              "<p>575 rows × 9 columns</p>\n",
              "</div>\n",
              "      <button class=\"colab-df-convert\" onclick=\"convertToInteractive('df-d53790cf-8415-40e3-a491-fcd95033cfa1')\"\n",
              "              title=\"Convert this dataframe to an interactive table.\"\n",
              "              style=\"display:none;\">\n",
              "        \n",
              "  <svg xmlns=\"http://www.w3.org/2000/svg\" height=\"24px\"viewBox=\"0 0 24 24\"\n",
              "       width=\"24px\">\n",
              "    <path d=\"M0 0h24v24H0V0z\" fill=\"none\"/>\n",
              "    <path d=\"M18.56 5.44l.94 2.06.94-2.06 2.06-.94-2.06-.94-.94-2.06-.94 2.06-2.06.94zm-11 1L8.5 8.5l.94-2.06 2.06-.94-2.06-.94L8.5 2.5l-.94 2.06-2.06.94zm10 10l.94 2.06.94-2.06 2.06-.94-2.06-.94-.94-2.06-.94 2.06-2.06.94z\"/><path d=\"M17.41 7.96l-1.37-1.37c-.4-.4-.92-.59-1.43-.59-.52 0-1.04.2-1.43.59L10.3 9.45l-7.72 7.72c-.78.78-.78 2.05 0 2.83L4 21.41c.39.39.9.59 1.41.59.51 0 1.02-.2 1.41-.59l7.78-7.78 2.81-2.81c.8-.78.8-2.07 0-2.86zM5.41 20L4 18.59l7.72-7.72 1.47 1.35L5.41 20z\"/>\n",
              "  </svg>\n",
              "      </button>\n",
              "      \n",
              "  <style>\n",
              "    .colab-df-container {\n",
              "      display:flex;\n",
              "      flex-wrap:wrap;\n",
              "      gap: 12px;\n",
              "    }\n",
              "\n",
              "    .colab-df-convert {\n",
              "      background-color: #E8F0FE;\n",
              "      border: none;\n",
              "      border-radius: 50%;\n",
              "      cursor: pointer;\n",
              "      display: none;\n",
              "      fill: #1967D2;\n",
              "      height: 32px;\n",
              "      padding: 0 0 0 0;\n",
              "      width: 32px;\n",
              "    }\n",
              "\n",
              "    .colab-df-convert:hover {\n",
              "      background-color: #E2EBFA;\n",
              "      box-shadow: 0px 1px 2px rgba(60, 64, 67, 0.3), 0px 1px 3px 1px rgba(60, 64, 67, 0.15);\n",
              "      fill: #174EA6;\n",
              "    }\n",
              "\n",
              "    [theme=dark] .colab-df-convert {\n",
              "      background-color: #3B4455;\n",
              "      fill: #D2E3FC;\n",
              "    }\n",
              "\n",
              "    [theme=dark] .colab-df-convert:hover {\n",
              "      background-color: #434B5C;\n",
              "      box-shadow: 0px 1px 3px 1px rgba(0, 0, 0, 0.15);\n",
              "      filter: drop-shadow(0px 1px 2px rgba(0, 0, 0, 0.3));\n",
              "      fill: #FFFFFF;\n",
              "    }\n",
              "  </style>\n",
              "\n",
              "      <script>\n",
              "        const buttonEl =\n",
              "          document.querySelector('#df-d53790cf-8415-40e3-a491-fcd95033cfa1 button.colab-df-convert');\n",
              "        buttonEl.style.display =\n",
              "          google.colab.kernel.accessAllowed ? 'block' : 'none';\n",
              "\n",
              "        async function convertToInteractive(key) {\n",
              "          const element = document.querySelector('#df-d53790cf-8415-40e3-a491-fcd95033cfa1');\n",
              "          const dataTable =\n",
              "            await google.colab.kernel.invokeFunction('convertToInteractive',\n",
              "                                                     [key], {});\n",
              "          if (!dataTable) return;\n",
              "\n",
              "          const docLinkHtml = 'Like what you see? Visit the ' +\n",
              "            '<a target=\"_blank\" href=https://colab.research.google.com/notebooks/data_table.ipynb>data table notebook</a>'\n",
              "            + ' to learn more about interactive tables.';\n",
              "          element.innerHTML = '';\n",
              "          dataTable['output_type'] = 'display_data';\n",
              "          await google.colab.output.renderOutput(dataTable, element);\n",
              "          const docLink = document.createElement('div');\n",
              "          docLink.innerHTML = docLinkHtml;\n",
              "          element.appendChild(docLink);\n",
              "        }\n",
              "      </script>\n",
              "    </div>\n",
              "  </div>\n",
              "  "
            ]
          },
          "metadata": {},
          "execution_count": 12
        }
      ]
    },
    {
      "cell_type": "code",
      "source": [
        "dupedrop['Over 500'] = dupedrop['TAP Recipient Headcount'] > 500"
      ],
      "metadata": {
        "id": "KhR4LuJxB8HW",
        "colab": {
          "base_uri": "https://localhost:8080/"
        },
        "outputId": "a7136e58-caec-499a-f10b-d41ad0994837"
      },
      "execution_count": 14,
      "outputs": [
        {
          "output_type": "stream",
          "name": "stderr",
          "text": [
            "<ipython-input-14-0fa7441e2e01>:1: SettingWithCopyWarning: \n",
            "A value is trying to be set on a copy of a slice from a DataFrame.\n",
            "Try using .loc[row_indexer,col_indexer] = value instead\n",
            "\n",
            "See the caveats in the documentation: https://pandas.pydata.org/pandas-docs/stable/user_guide/indexing.html#returning-a-view-versus-a-copy\n",
            "  dupedrop['Over 500'] = dupedrop['TAP Recipient Headcount'] > 500\n"
          ]
        }
      ]
    },
    {
      "cell_type": "code",
      "source": [
        "proportion_500 = dupedrop['Over 500'].mean()"
      ],
      "metadata": {
        "id": "uk1OT2RFCJz3"
      },
      "execution_count": 15,
      "outputs": []
    },
    {
      "cell_type": "code",
      "source": [
        "print('Proportion of schools with over 500 TAP recipients:', proportion_500)"
      ],
      "metadata": {
        "id": "H5D_vfUgCUJ0",
        "colab": {
          "base_uri": "https://localhost:8080/"
        },
        "outputId": "773e7523-d6b6-40ad-c932-0287761a6b23"
      },
      "execution_count": 16,
      "outputs": [
        {
          "output_type": "stream",
          "name": "stdout",
          "text": [
            "Proportion of schools with over 500 TAP recipients: 0.20173913043478262\n"
          ]
        }
      ]
    },
    {
      "cell_type": "code",
      "source": [
        "public = dupedrop[dupedrop['Sector Type'] == 'PUBLIC']\n",
        "private = dupedrop[dupedrop['Sector Type'] == 'PRIVATE']"
      ],
      "metadata": {
        "id": "7YXqW3eICwkx"
      },
      "execution_count": 17,
      "outputs": []
    },
    {
      "cell_type": "code",
      "source": [
        "public_over_500 = public['Over 500'].mean()\n",
        "private_over_500 = private['Over 500'].mean()"
      ],
      "metadata": {
        "id": "BUrQ7MqdDHad"
      },
      "execution_count": 18,
      "outputs": []
    },
    {
      "cell_type": "code",
      "source": [
        "n1 = len(public)\n",
        "n2 = len(private)\n",
        "p1 = public_over_500\n",
        "p2 = private_over_500"
      ],
      "metadata": {
        "id": "2A3dDU05DKIN"
      },
      "execution_count": 19,
      "outputs": []
    },
    {
      "cell_type": "code",
      "source": [
        "pooled_p = (public['Over 500'].sum() + private['Over 500'].sum()) / (n1 + n2)"
      ],
      "metadata": {
        "id": "eNkF5lJgDOa4"
      },
      "execution_count": 20,
      "outputs": []
    },
    {
      "cell_type": "code",
      "source": [
        "standard_error = np.sqrt(pooled_p * (1 - pooled_p) * (1/n1 + 1/n2))"
      ],
      "metadata": {
        "id": "eDI8BgW8Dl3z"
      },
      "execution_count": 21,
      "outputs": []
    },
    {
      "cell_type": "code",
      "source": [
        "test_statistic = (p1 - p2) / standard_error"
      ],
      "metadata": {
        "id": "B2MgV4BNDjgo"
      },
      "execution_count": 22,
      "outputs": []
    },
    {
      "cell_type": "code",
      "source": [
        "p_value = stats.norm.sf(abs(test_statistic)) * 2"
      ],
      "metadata": {
        "id": "RE5hc6OaDzO_"
      },
      "execution_count": 23,
      "outputs": []
    },
    {
      "cell_type": "code",
      "source": [
        "print('p-value for the test:', p_value)"
      ],
      "metadata": {
        "id": "VjBd__fjD4KR",
        "colab": {
          "base_uri": "https://localhost:8080/"
        },
        "outputId": "6d1ea65d-e8eb-4459-ab90-db3a14ec07d1"
      },
      "execution_count": 24,
      "outputs": [
        {
          "output_type": "stream",
          "name": "stdout",
          "text": [
            "p-value for the test: 1.527766820830469e-25\n"
          ]
        }
      ]
    },
    {
      "cell_type": "code",
      "source": [
        "#There is a significant difference between the proportion of public vs. private schools that had over 500 TAP recipients."
      ],
      "metadata": {
        "id": "CCOjjOTgFBdA"
      },
      "execution_count": 25,
      "outputs": []
    },
    {
      "cell_type": "code",
      "source": [
        "# Create a two-way table for TAP recipient headcount by sector type and TAP sector group\n",
        "table_headcount = pd.pivot_table(original, values='TAP Recipient Headcount', index='Sector Type', columns='TAP Sector Group', aggfunc=np.sum, fill_value=0)\n",
        "print(\"Table comparing TAP recipient headcount by sector type and TAP sector group:\")\n",
        "print(table_headcount)\n",
        "\n",
        "# Create a two-way table for TAP recipient dollars by sector type and TAP sector group\n",
        "table_dollars = pd.pivot_table(original, values='TAP Recipient Dollars', index='Sector Type', columns='TAP Sector Group', aggfunc=np.sum, fill_value=0)\n",
        "print(\"Table comparing TAP recipient dollars by sector type and TAP sector group:\")\n",
        "print(table_dollars)\n",
        "\n",
        "# Perform chi-square test for TAP recipient headcount\n",
        "chi2_headcount, p_headcount, dof_headcount, expected_headcount = stats.chi2_contingency(table_headcount)\n",
        "print(\"Chi-square statistic for TAP recipient headcount:\", chi2_headcount)\n",
        "print(\"p-value for TAP recipient headcount:\", p_headcount)\n",
        "\n",
        "# Perform chi-square test for TAP recipient dollars\n",
        "chi2_dollars, p_dollars, dof_dollars, expected_dollars = stats.chi2_contingency(table_dollars)\n",
        "print(\"Chi-square statistic for TAP recipient dollars:\", chi2_dollars)\n",
        "print(\"p-value for TAP recipient dollars:\", p_dollars)\n",
        "\n"
      ],
      "metadata": {
        "id": "Y6JR0sL-EUjT",
        "colab": {
          "base_uri": "https://localhost:8080/"
        },
        "outputId": "fb44dab5-2124-4510-c11b-c64c63b06a4f"
      },
      "execution_count": 26,
      "outputs": [
        {
          "output_type": "stream",
          "name": "stdout",
          "text": [
            "Table comparing TAP recipient headcount by sector type and TAP sector group:\n",
            "TAP Sector Group  1-CUNY SR  2-CUNY CC  3-SUNY SO  4-SUNY CC  5-INDEPENDENT  \\\n",
            "Sector Type                                                                   \n",
            "PRIVATE                   0          0          0          0        1889260   \n",
            "PUBLIC              1267202     690273    1638744    1374271              0   \n",
            "\n",
            "TAP Sector Group  6-BUS. DEGREE  7-BUS. NON-DEG  8-OTHER  9-CHAPTER XXII  \n",
            "Sector Type                                                               \n",
            "PRIVATE                  648252           55007     9010           57704  \n",
            "PUBLIC                        0               0        0               0  \n",
            "Table comparing TAP recipient dollars by sector type and TAP sector group:\n",
            "TAP Sector Group   1-CUNY SR   2-CUNY CC   3-SUNY SO   4-SUNY CC  \\\n",
            "Sector Type                                                        \n",
            "PRIVATE                    0           0           0           0   \n",
            "PUBLIC            3349656585  1412863366  3613800278  2276140581   \n",
            "\n",
            "TAP Sector Group  5-INDEPENDENT  6-BUS. DEGREE  7-BUS. NON-DEG   8-OTHER  \\\n",
            "Sector Type                                                                \n",
            "PRIVATE              4745715065     1941502001       188103535  16791678   \n",
            "PUBLIC                        0              0               0         0   \n",
            "\n",
            "TAP Sector Group  9-CHAPTER XXII  \n",
            "Sector Type                       \n",
            "PRIVATE                249670421  \n",
            "PUBLIC                         0  \n",
            "Chi-square statistic for TAP recipient headcount: 7629723.000000002\n",
            "p-value for TAP recipient headcount: 0.0\n",
            "Chi-square statistic for TAP recipient dollars: 17794243510.000004\n",
            "p-value for TAP recipient dollars: 0.0\n"
          ]
        }
      ]
    },
    {
      "cell_type": "code",
      "source": [
        "#There is a significant association between TAP recipient headcount/dollars and sector type as well as TAP sector group.\n",
        "#This means that the distribution of TAP recipients and TAP recipient dollars is not equal across sector types and sector groups."
      ],
      "metadata": {
        "id": "TBKYH-0ZIPb4"
      },
      "execution_count": 27,
      "outputs": []
    },
    {
      "cell_type": "code",
      "source": [
        "#There are significant differences in the number of TAP recipients and the amount of TAP funds they receive depending on the\n",
        "#type of institution and sector group they belong to. This implies that TAP funds are not being distributed equally across \n",
        "#all institutions and sector groups."
      ],
      "metadata": {
        "id": "dm3tm82LG5zZ"
      },
      "execution_count": 28,
      "outputs": []
    },
    {
      "cell_type": "markdown",
      "source": [
        "# Chapter 7"
      ],
      "metadata": {
        "id": "sZAzziPYKFpI"
      }
    },
    {
      "cell_type": "code",
      "source": [
        "# Calculate the mean, median, and mode for TAP recipient dollars\n",
        "tap_dollars_mean = np.mean(original['TAP Recipient Dollars'])\n",
        "tap_dollars_median = np.median(original['TAP Recipient Dollars'])\n",
        "tap_dollars_mode = original['TAP Recipient Dollars'].mode()[0]"
      ],
      "metadata": {
        "id": "MYgYw_w7KRF6"
      },
      "execution_count": 29,
      "outputs": []
    },
    {
      "cell_type": "code",
      "source": [
        "# Calculate the mean, median, and mode for TAP recipient headcount\n",
        "tap_headcount_mean = np.mean(original['TAP Recipient Headcount'])\n",
        "tap_headcount_median = np.median(original['TAP Recipient Headcount'])\n",
        "tap_headcount_mode = original['TAP Recipient Headcount'].mode()[0]"
      ],
      "metadata": {
        "id": "f_MJVSf1OMY_"
      },
      "execution_count": 30,
      "outputs": []
    },
    {
      "cell_type": "code",
      "source": [
        "print(\"TAP Recipient Dollars: Mean = {:.2f}, Median = {:.2f}, Mode = {}\".format(tap_dollars_mean, tap_dollars_median, tap_dollars_mode))\n",
        "print(\"TAP Recipient Headcount: Mean = {:.2f}, Median = {:.2f}, Mode = {}\".format(tap_headcount_mean, tap_headcount_median, tap_headcount_mode))"
      ],
      "metadata": {
        "colab": {
          "base_uri": "https://localhost:8080/"
        },
        "id": "qQ6rVVgaOPYc",
        "outputId": "c154c665-06fb-4343-e143-f1038848c0a5"
      },
      "execution_count": 31,
      "outputs": [
        {
          "output_type": "stream",
          "name": "stdout",
          "text": [
            "TAP Recipient Dollars: Mean = 2234054.43, Median = 711288.00, Mode = 275\n",
            "TAP Recipient Headcount: Mean = 957.91, Median = 270.00, Mode = 3\n"
          ]
        }
      ]
    },
    {
      "cell_type": "code",
      "source": [
        "from scipy.stats import ttest_rel, ttest_1samp"
      ],
      "metadata": {
        "id": "YGJca1TyOiGl"
      },
      "execution_count": 32,
      "outputs": []
    }
  ]
}